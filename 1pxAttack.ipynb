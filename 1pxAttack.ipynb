{
  "cells": [
    {
      "cell_type": "code",
      "execution_count": 2,
      "metadata": {
        "colab": {
          "base_uri": "https://localhost:8080/"
        },
        "id": "VJVqHjaVbJ7a",
        "outputId": "a5a2c98b-0d62-40d4-daec-f3686b13bd67"
      },
      "outputs": [
        {
          "name": "stdout",
          "output_type": "stream",
          "text": [
            "Mounted at /content/gdrive\n"
          ]
        }
      ],
      "source": [
        "from google.colab import drive\n",
        "drive.mount(\"/content/gdrive\")"
      ]
    },
    {
      "cell_type": "code",
      "execution_count": 4,
      "metadata": {
        "id": "m6YWnGJyc9FO"
      },
      "outputs": [],
      "source": [
        "# Import block\n",
        "import tensorflow as tf\n",
        "import tensorflow_datasets as tfds\n",
        "import matplotlib.pyplot as plt\n",
        "from tensorflow import keras\n",
        "from keras.layers import Dense, Flatten\n",
        "from keras.models import Sequential"
      ]
    },
    {
      "cell_type": "code",
      "execution_count": 5,
      "metadata": {
        "id": "_e8QpEjvc9q-"
      },
      "outputs": [],
      "source": [
        "# Dataset set-up\n",
        "dataset_name = \"imagenette320\"\n",
        "data_dir='/content/gdrive/MyDrive/imagenette320'\n",
        "\n",
        "# Download the dataset\n",
        "# dataset = tfds.load(dataset_name, data_dir, shuffle_files=True)"
      ]
    },
    {
      "cell_type": "code",
      "execution_count": 6,
      "metadata": {
        "colab": {
          "base_uri": "https://localhost:8080/"
        },
        "id": "8E6jvo9kdAWi",
        "outputId": "7a44c048-3652-44f3-cc90-6bd13458b0df"
      },
      "outputs": [
        {
          "name": "stdout",
          "output_type": "stream",
          "text": [
            "Found 13424 files belonging to 10 classes.\n",
            "Using 10740 files for training.\n"
          ]
        }
      ],
      "source": [
        "train_ds = tf.keras.preprocessing.image_dataset_from_directory (\n",
        "    data_dir,\n",
        "    subset=\"training\",\n",
        "    validation_split=0.2,\n",
        "    label_mode=\"categorical\",\n",
        "    seed=123,\n",
        "    image_size=(320, 320),\n",
        "    batch_size=32)"
      ]
    },
    {
      "cell_type": "code",
      "execution_count": 7,
      "metadata": {
        "colab": {
          "base_uri": "https://localhost:8080/"
        },
        "id": "qNGr0WH9dEGt",
        "outputId": "c8d7057c-b449-47b3-fbb1-33600d0dc271"
      },
      "outputs": [
        {
          "name": "stdout",
          "output_type": "stream",
          "text": [
            "Found 13424 files belonging to 10 classes.\n",
            "Using 2684 files for validation.\n"
          ]
        }
      ],
      "source": [
        "val_ds = tf.keras.preprocessing.image_dataset_from_directory(\n",
        "    data_dir,\n",
        "    subset=\"validation\",\n",
        "    validation_split=0.2,\n",
        "    label_mode=\"categorical\",\n",
        "    seed=123,\n",
        "    image_size=(320, 320),\n",
        "    batch_size=32)"
      ]
    },
    {
      "cell_type": "code",
      "execution_count": 13,
      "metadata": {
        "colab": {
          "base_uri": "https://localhost:8080/"
        },
        "id": "TqnlmoQ7dGl8",
        "outputId": "c3a5ff06-cd12-4ab9-c7e9-e44d95261853"
      },
      "outputs": [
        {
          "name": "stdout",
          "output_type": "stream",
          "text": [
            "Downloading data from https://storage.googleapis.com/tensorflow/keras-applications/resnet/resnet50_weights_tf_dim_ordering_tf_kernels_notop.h5\n",
            "94765736/94765736 [==============================] - 1s 0us/step\n"
          ]
        }
      ],
      "source": [
        "# Define the transfer learning model\n",
        "resnet_model = Sequential()\n",
        "\n",
        "pretrained_model = tf.keras.applications.ResNet50(\n",
        "    include_top=False, #Changed from true\n",
        "    input_shape=(320,320,3), #Image shape\n",
        "    pooling='avg', #Global average pooling\n",
        "    classes=10, #Number of classes of the dataset\n",
        "    weights='imagenet', #Pre-trained weights\n",
        ")\n",
        "for layer in pretrained_model.layers:\n",
        "    layer.trainable = False #Every layer inside is not gonna be trained, we are using the pre-trained weights"
      ]
    },
    {
      "cell_type": "code",
      "execution_count": 14,
      "metadata": {
        "id": "ia8x6uXtdH6v"
      },
      "outputs": [],
      "source": [
        "resnet_model.add(pretrained_model) #Add the pre-trained model to the new model\n",
        "resnet_model.add(Flatten()) #Flatten the output of the pre-trained model\n",
        "resnet_model.add(Dense(512, activation='relu')) #Add a dense layer with 512 neurons and relu activation function <- fun can be changed to improve the model\n",
        "resnet_model.add(Dense(10, activation='softmax')) #Add a dense layer with 10 neurons (output) and softmax activation function <- fun can be changed to improve the model"
      ]
    },
    {
      "cell_type": "code",
      "execution_count": 15,
      "metadata": {
        "colab": {
          "base_uri": "https://localhost:8080/"
        },
        "id": "q_OptL1rdIZq",
        "outputId": "0716f371-e437-40e8-9a6f-5fcbf089acf6"
      },
      "outputs": [
        {
          "name": "stdout",
          "output_type": "stream",
          "text": [
            "Model: \"sequential_1\"\n",
            "_________________________________________________________________\n",
            " Layer (type)                Output Shape              Param #   \n",
            "=================================================================\n",
            " resnet50 (Functional)       (None, 2048)              23587712  \n",
            "                                                                 \n",
            " flatten_1 (Flatten)         (None, 2048)              0         \n",
            "                                                                 \n",
            " dense_2 (Dense)             (None, 512)               1049088   \n",
            "                                                                 \n",
            " dense_3 (Dense)             (None, 10)                5130      \n",
            "                                                                 \n",
            "=================================================================\n",
            "Total params: 24,641,930\n",
            "Trainable params: 1,054,218\n",
            "Non-trainable params: 23,587,712\n",
            "_________________________________________________________________\n"
          ]
        }
      ],
      "source": [
        "resnet_model.summary() #Print the model summary, now the model is ready to be compiled"
      ]
    },
    {
      "cell_type": "code",
      "execution_count": 17,
      "metadata": {
        "id": "1yZinYKRdK30"
      },
      "outputs": [],
      "source": [
        "resnet_model.compile(optimizer='adam', loss='categorical_crossentropy', metrics=['accuracy']) #Compile the model with the optimizer, loss function and metrics (try others)"
      ]
    },
    {
      "cell_type": "code",
      "execution_count": null,
      "metadata": {
        "colab": {
          "base_uri": "https://localhost:8080/"
        },
        "id": "gvop6k_ldMN_",
        "outputId": "15f35f96-c11e-4814-f9b3-b512dab45466"
      },
      "outputs": [
        {
          "name": "stdout",
          "output_type": "stream",
          "text": [
            "Epoch 1/10\n",
            "336/336 [==============================] - 90s 251ms/step - loss: 0.1740 - accuracy: 0.9477 - val_loss: 0.1083 - val_accuracy: 0.9661\n",
            "Epoch 2/10\n",
            "336/336 [==============================] - 84s 249ms/step - loss: 0.0521 - accuracy: 0.9820 - val_loss: 0.0817 - val_accuracy: 0.9765\n",
            "Epoch 3/10\n",
            "336/336 [==============================] - 84s 249ms/step - loss: 0.0276 - accuracy: 0.9900 - val_loss: 0.1096 - val_accuracy: 0.9728\n",
            "Epoch 4/10\n",
            "130/336 [==========>...................] - ETA: 41s - loss: 0.0360 - accuracy: 0.9865"
          ]
        }
      ],
      "source": [
        "history = resnet_model.fit(train_ds, epochs=10, validation_data=val_ds) #Train the model with the training dataset and validate it with the validation dataset"
      ]
    },
    {
      "cell_type": "code",
      "execution_count": null,
      "metadata": {},
      "outputs": [],
      "source": [
        "fig = plt.gcf()\n",
        "plt.plot(history.history['accuracy'])\n",
        "plt.plot(history.history['val_accuracy'])\n",
        "plt.axis(ymin=0.5,ymax=1)\n",
        "plt.grid()\n",
        "plt.title('Model accuracy')\n",
        "plt.ylabel('Accuracy')\n",
        "plt.xlabel('Epoch')\n",
        "plt.legend(['Train', 'Validation'])\n",
        "plt.show()"
      ]
    },
    {
      "cell_type": "code",
      "execution_count": null,
      "metadata": {},
      "outputs": [],
      "source": [
        "plt.plot(history.history['loss'])\n",
        "plt.plot(history.history['val_loss'])\n",
        "plt.grid()\n",
        "plt.title('Model loss')\n",
        "plt.ylabel('Loss')\n",
        "plt.xlabel('Epoch')\n",
        "plt.legend(['Train', 'Validation'])\n",
        "plt.show()"
      ]
    }
  ],
  "metadata": {
    "accelerator": "GPU",
    "colab": {
      "gpuType": "T4",
      "provenance": []
    },
    "kernelspec": {
      "display_name": "Python 3",
      "name": "python3"
    },
    "language_info": {
      "name": "python"
    }
  },
  "nbformat": 4,
  "nbformat_minor": 0
}
